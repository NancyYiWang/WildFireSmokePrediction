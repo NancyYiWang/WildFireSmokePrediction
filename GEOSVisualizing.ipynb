{
  "nbformat": 4,
  "nbformat_minor": 0,
  "metadata": {
    "colab": {
      "provenance": [],
      "machine_shape": "hm",
      "authorship_tag": "ABX9TyNI3in7KOSy8fZIOXUWD+9J",
      "include_colab_link": true
    },
    "kernelspec": {
      "name": "python3",
      "display_name": "Python 3"
    },
    "language_info": {
      "name": "python"
    }
  },
  "cells": [
    {
      "cell_type": "markdown",
      "metadata": {
        "id": "view-in-github",
        "colab_type": "text"
      },
      "source": [
        "<a href=\"https://colab.research.google.com/github/NancyYiWang/WildFireSmokePrediction/blob/main/GEOSVisualizing.ipynb\" target=\"_parent\"><img src=\"https://colab.research.google.com/assets/colab-badge.svg\" alt=\"Open In Colab\"/></a>"
      ]
    },
    {
      "cell_type": "code",
      "execution_count": 1,
      "metadata": {
        "colab": {
          "base_uri": "https://localhost:8080/"
        },
        "id": "Y-hYR5OAxYRu",
        "outputId": "de2e8f4c-8cdc-441d-e19e-2272babc7573"
      },
      "outputs": [
        {
          "output_type": "stream",
          "name": "stdout",
          "text": [
            "Mounted at /content/drive\n"
          ]
        }
      ],
      "source": [
        "from google.colab import drive\n",
        "drive.mount('/content/drive')"
      ]
    },
    {
      "cell_type": "code",
      "source": [
        "!pip install netCDF4\n",
        "!pip install matplotlib\n",
        "!pip install cartopy"
      ],
      "metadata": {
        "colab": {
          "base_uri": "https://localhost:8080/"
        },
        "id": "i8QGNgaCfFr1",
        "outputId": "5d9b2603-de3b-459d-e8e1-d9b9d8ce7c13"
      },
      "execution_count": 2,
      "outputs": [
        {
          "output_type": "stream",
          "name": "stdout",
          "text": [
            "Collecting netCDF4\n",
            "  Downloading netCDF4-1.7.2-cp310-cp310-manylinux_2_17_x86_64.manylinux2014_x86_64.whl.metadata (1.8 kB)\n",
            "Collecting cftime (from netCDF4)\n",
            "  Downloading cftime-1.6.4.post1-cp310-cp310-manylinux_2_17_x86_64.manylinux2014_x86_64.whl.metadata (8.7 kB)\n",
            "Requirement already satisfied: certifi in /usr/local/lib/python3.10/dist-packages (from netCDF4) (2024.12.14)\n",
            "Requirement already satisfied: numpy in /usr/local/lib/python3.10/dist-packages (from netCDF4) (1.26.4)\n",
            "Downloading netCDF4-1.7.2-cp310-cp310-manylinux_2_17_x86_64.manylinux2014_x86_64.whl (9.1 MB)\n",
            "\u001b[2K   \u001b[90m━━━━━━━━━━━━━━━━━━━━━━━━━━━━━━━━━━━━━━━━\u001b[0m \u001b[32m9.1/9.1 MB\u001b[0m \u001b[31m83.6 MB/s\u001b[0m eta \u001b[36m0:00:00\u001b[0m\n",
            "\u001b[?25hDownloading cftime-1.6.4.post1-cp310-cp310-manylinux_2_17_x86_64.manylinux2014_x86_64.whl (1.3 MB)\n",
            "\u001b[2K   \u001b[90m━━━━━━━━━━━━━━━━━━━━━━━━━━━━━━━━━━━━━━━━\u001b[0m \u001b[32m1.3/1.3 MB\u001b[0m \u001b[31m63.1 MB/s\u001b[0m eta \u001b[36m0:00:00\u001b[0m\n",
            "\u001b[?25hInstalling collected packages: cftime, netCDF4\n",
            "Successfully installed cftime-1.6.4.post1 netCDF4-1.7.2\n",
            "Requirement already satisfied: matplotlib in /usr/local/lib/python3.10/dist-packages (3.8.0)\n",
            "Requirement already satisfied: contourpy>=1.0.1 in /usr/local/lib/python3.10/dist-packages (from matplotlib) (1.3.1)\n",
            "Requirement already satisfied: cycler>=0.10 in /usr/local/lib/python3.10/dist-packages (from matplotlib) (0.12.1)\n",
            "Requirement already satisfied: fonttools>=4.22.0 in /usr/local/lib/python3.10/dist-packages (from matplotlib) (4.55.3)\n",
            "Requirement already satisfied: kiwisolver>=1.0.1 in /usr/local/lib/python3.10/dist-packages (from matplotlib) (1.4.7)\n",
            "Requirement already satisfied: numpy<2,>=1.21 in /usr/local/lib/python3.10/dist-packages (from matplotlib) (1.26.4)\n",
            "Requirement already satisfied: packaging>=20.0 in /usr/local/lib/python3.10/dist-packages (from matplotlib) (24.2)\n",
            "Requirement already satisfied: pillow>=6.2.0 in /usr/local/lib/python3.10/dist-packages (from matplotlib) (11.0.0)\n",
            "Requirement already satisfied: pyparsing>=2.3.1 in /usr/local/lib/python3.10/dist-packages (from matplotlib) (3.2.0)\n",
            "Requirement already satisfied: python-dateutil>=2.7 in /usr/local/lib/python3.10/dist-packages (from matplotlib) (2.8.2)\n",
            "Requirement already satisfied: six>=1.5 in /usr/local/lib/python3.10/dist-packages (from python-dateutil>=2.7->matplotlib) (1.17.0)\n",
            "Collecting cartopy\n",
            "  Downloading Cartopy-0.24.1-cp310-cp310-manylinux_2_17_x86_64.manylinux2014_x86_64.whl.metadata (7.9 kB)\n",
            "Requirement already satisfied: numpy>=1.23 in /usr/local/lib/python3.10/dist-packages (from cartopy) (1.26.4)\n",
            "Requirement already satisfied: matplotlib>=3.6 in /usr/local/lib/python3.10/dist-packages (from cartopy) (3.8.0)\n",
            "Requirement already satisfied: shapely>=1.8 in /usr/local/lib/python3.10/dist-packages (from cartopy) (2.0.6)\n",
            "Requirement already satisfied: packaging>=21 in /usr/local/lib/python3.10/dist-packages (from cartopy) (24.2)\n",
            "Requirement already satisfied: pyshp>=2.3 in /usr/local/lib/python3.10/dist-packages (from cartopy) (2.3.1)\n",
            "Requirement already satisfied: pyproj>=3.3.1 in /usr/local/lib/python3.10/dist-packages (from cartopy) (3.7.0)\n",
            "Requirement already satisfied: contourpy>=1.0.1 in /usr/local/lib/python3.10/dist-packages (from matplotlib>=3.6->cartopy) (1.3.1)\n",
            "Requirement already satisfied: cycler>=0.10 in /usr/local/lib/python3.10/dist-packages (from matplotlib>=3.6->cartopy) (0.12.1)\n",
            "Requirement already satisfied: fonttools>=4.22.0 in /usr/local/lib/python3.10/dist-packages (from matplotlib>=3.6->cartopy) (4.55.3)\n",
            "Requirement already satisfied: kiwisolver>=1.0.1 in /usr/local/lib/python3.10/dist-packages (from matplotlib>=3.6->cartopy) (1.4.7)\n",
            "Requirement already satisfied: pillow>=6.2.0 in /usr/local/lib/python3.10/dist-packages (from matplotlib>=3.6->cartopy) (11.0.0)\n",
            "Requirement already satisfied: pyparsing>=2.3.1 in /usr/local/lib/python3.10/dist-packages (from matplotlib>=3.6->cartopy) (3.2.0)\n",
            "Requirement already satisfied: python-dateutil>=2.7 in /usr/local/lib/python3.10/dist-packages (from matplotlib>=3.6->cartopy) (2.8.2)\n",
            "Requirement already satisfied: certifi in /usr/local/lib/python3.10/dist-packages (from pyproj>=3.3.1->cartopy) (2024.12.14)\n",
            "Requirement already satisfied: six>=1.5 in /usr/local/lib/python3.10/dist-packages (from python-dateutil>=2.7->matplotlib>=3.6->cartopy) (1.17.0)\n",
            "Downloading Cartopy-0.24.1-cp310-cp310-manylinux_2_17_x86_64.manylinux2014_x86_64.whl (11.7 MB)\n",
            "\u001b[2K   \u001b[90m━━━━━━━━━━━━━━━━━━━━━━━━━━━━━━━━━━━━━━━━\u001b[0m \u001b[32m11.7/11.7 MB\u001b[0m \u001b[31m107.4 MB/s\u001b[0m eta \u001b[36m0:00:00\u001b[0m\n",
            "\u001b[?25hInstalling collected packages: cartopy\n",
            "Successfully installed cartopy-0.24.1\n"
          ]
        }
      ]
    },
    {
      "cell_type": "code",
      "source": [
        "import os\n",
        "from netCDF4 import Dataset\n",
        "\n",
        "nc_directory = \"/content/drive/My Drive/WildFire/DATA/NOAA_GOES_R\"\n",
        "\n",
        "nc_files = [f for f in os.listdir(nc_directory) if f.endswith('.nc')]\n",
        "\n",
        "nc_file_path = os.path.join(nc_directory, nc_files[0])\n",
        "print(f\"\\nReading file: {nc_file_path}\")\n",
        "\n",
        "nc_data = Dataset(nc_file_path, 'r')\n",
        "\n",
        "print(nc_data)"
      ],
      "metadata": {
        "colab": {
          "base_uri": "https://localhost:8080/"
        },
        "id": "5m0Zt_4jfQh1",
        "outputId": "951c83e2-b219-44ca-956f-1f5b19b381cd"
      },
      "execution_count": 3,
      "outputs": [
        {
          "output_type": "stream",
          "name": "stdout",
          "text": [
            "\n",
            "Reading file: /content/drive/My Drive/WildFire/DATA/NOAA_GOES_R/ABI-L2-GFLSC-M6_v3r1_g16_s202401010001173_e202401010003546_c202401010005114.nc\n",
            "<class 'netCDF4.Dataset'>\n",
            "root group (NETCDF4 data model, file format HDF5):\n",
            "    Conventions: CF-1.6\n",
            "    Metadata_Conventions: CF-1.6, Unidata Dataset Discovery v1.0\n",
            "    standard_name_vocabulary: CF Standard Name Table v76\n",
            "    institution: DOC/NOAA/NESDIS/NDE > S-NPP Data Exploitation, NESDIS, NOAA, U.S. Department of Commerce\n",
            "    naming_authority: gov.noaa.nesdis.nde\n",
            "    processing_level: NOAA Level 2\n",
            "    production_site: NSOF\n",
            "    production_environment: OE\n",
            "    sensor_band_identifier: 2, 7, 14\n",
            "    sensor_band_central_radiation_wavelength: 0.64um, 3.9um, 11.2um\n",
            "    satellite_name: GOES-16\n",
            "    instrument_name: GOES-R Series Advanced Baseline Imager\n",
            "    project: Enterprise Processing System: GOES-R Fog/Low Stratus Cloud Product\n",
            "    summary: Fog Depth and Flight Rule Probabilities\n",
            "    history: Enterprise FLS Algorithm Version 2.3.1\n",
            "    references: N/A\n",
            "    resolution: 2km at nadir\n",
            "    time_coverage_start: 2024-01-01T00:01:17Z\n",
            "    time_coverage_end: 2024-01-01T00:03:54Z\n",
            "    date_created: 2024-01-01T00:05:11Z\n",
            "    geospatial_lat_units: degrees_north\n",
            "    geospatial_lon_units: degrees_east\n",
            "    history_package: Delivery Package v3r1\n",
            "    id: 29221d62-9917-4d6d-8a3a-c101783b912b\n",
            "    geospatial_bounds: POLYGON((-152.109283 56.7614517, -52.9468803 56.7614517, -52.9468803 14.5713396, -152.109283 14.5713396,-152.109283 56.7614517))\n",
            "    cdm_data_type: Image\n",
            "    orbital_slot: GOES-East\n",
            "    title: ABI-L2-GFLSC-M6\n",
            "    Metadata_Link: ABI-L2-GFLSC-M6_v3r1_g16_s202401010001173_e202401010003546_c202401010005114.nc\n",
            "    Timeline_id: ABI Mode 6\n",
            "    scene_id: CONUS\n",
            "    dimensions(sizes): Columns(2500), Rows(1500), QfConst(6), QPIConst(5)\n",
            "    variables(dimensions): int32 StartRow(), int32 StartColumn(), float32 Latitude(Rows, Columns), float32 Longitude(Rows, Columns), int8 Fog_Lrc_Mask(Rows, Columns), int16 Fog_Qf(Rows, Columns, QfConst), int16 Fog_Qpi(Rows, Columns, QPIConst), float32 MVFR_Fog_Prob(Rows, Columns), float32 IFR_Fog_Prob(Rows, Columns), float32 IFR_RHonly_Fog_Prob(Rows, Columns), float32 LIFR_Fog_Prob(Rows, Columns), float32 Fog_Depth(Rows, Columns), float32 Sfc_Temp_Bias(Rows, Columns), float32 Sfc_Temp_Bias_Global(Rows, Columns), float32 Refl_Chn2_StdDev(Rows, Columns), float32 Refl_Chn2_StdDev_Lrc(Rows, Columns), float32 Refl_Chn2_Stddev_Composite(Rows, Columns), float32 BT_Chn14_StdDev(Rows, Columns), float32 Emiss_Chn7_Atm_Correc(Rows, Columns), float32 Emiss_Chn7_Composite(Rows, Columns), float32 Refl_Chn7_Composite(Rows, Columns), float32 Sfc_Elevation(Rows, Columns), float32 Sfc_RH(Rows, Columns), float32 Sfc_RH_Global(Rows, Columns), float32 Max_RH_500ft_Lay(Rows, Columns), float32 Max_RH_1000ft_Lay(Rows, Columns), float32 Max_RH_3000ft_Lay(Rows, Columns), float32 Max_RH_500ft_9X9(Rows, Columns), float32 Max_RH_1000ft_9X9(Rows, Columns), float32 Max_RH_3000ft_9X9(Rows, Columns), float32 Max_RH_500ft_Lay_Above(Rows, Columns), float32 Max_RH_1000ft_Lay_Above(Rows, Columns), float32 Max_RH_3000ft_Lay_Above(Rows, Columns), float32 Max_RH_500ft_Lay_Global(Rows, Columns), float32 Max_RH_1000ft_Lay_Global(Rows, Columns), float32 Max_RH_3000ft_Lay_Global(Rows, Columns), float32 Max_RH_500ft_Lay_Above_Global(Rows, Columns), float32 Max_RH_1000ft_Lay_Above_Global(Rows, Columns), float32 Max_RH_3000ft_Lay_Above_Global(Rows, Columns), float32 Max_RH_Hgt_500ft_Lay_Above(Rows, Columns), float32 Max_RH_Hgt_1000ft_Lay_Above(Rows, Columns), float32 Max_RH_Hgt_3000ft_Lay_Above(Rows, Columns), float32 Max_RH_Hgt_500ft_Lay_Above_Global(Rows, Columns), float32 Max_RH_Hgt_1000ft_Lay_Above_Global(Rows, Columns), float32 Max_RH_Hgt_3000ft_Lay_Above_Global(Rows, Columns), float32 Max_RH_Hgt_Sfc_Elev_Diff(Rows, Columns), int8 Meso_Nwp_Valid(Rows, Columns), int32 Xgrad_Idx(Rows, Columns), int32 Ygrad_Idx(Rows, Columns), int32 NumTotalPix(), int32 NumTotPixAtpt(), int32 NumFLSpix(), float32 FractionFLS(), int32 NumPixClear(), float32 FractionClear(), int32 NumPixNotClear(), float32 FractionNotClear(), int32 NumPixWater(), float32 FractionWater(), int32 NumPixSuperCooled(), float32 FractionSuperCooled(), int32 NumPixMixed(), float32 FractionMixed(), int32 NumPixIce(), float32 FractionIce(), float32 FLSperct(), float32 MinFLSdepth(), float32 MaxFLSdepth(), float32 MeanFLSdepth(), float32 StdDevFLSdepth(), float32 MinLIFRprob(), float32 MaxLIFRprob(), float32 MeanLIFRprob(), float32 StdDevLIFRprob(), float32 MinMVFRprob(), float32 MaxMVFRprob(), float32 MeanMVFRprob(), float32 StdDevMVFRprob(), float32 MinIFRprob(), float32 MaxIFRprob(), float32 MeanIFRprob(), float32 StdDevIFRprob(), int64 granule_level_quality_flag()\n",
            "    groups: \n"
          ]
        }
      ]
    },
    {
      "cell_type": "code",
      "source": [
        "print(\"\\nVariables in the file:\")\n",
        "for var in nc_data.variables:\n",
        "    dimensions = nc_data.variables[var].dimensions\n",
        "    print(f\"{var}: {dimensions}\")\n",
        "\n",
        "    if not dimensions:\n",
        "            value = nc_data.variables[var][:]\n",
        "            print(f\"Value: {value}\")"
      ],
      "metadata": {
        "colab": {
          "base_uri": "https://localhost:8080/"
        },
        "id": "l11Mg8ummtDF",
        "outputId": "a5d95653-e417-4901-bb4d-bc3a2bf0fe29"
      },
      "execution_count": 4,
      "outputs": [
        {
          "output_type": "stream",
          "name": "stdout",
          "text": [
            "\n",
            "Variables in the file:\n",
            "StartRow: ()\n",
            "Value: 1\n",
            "StartColumn: ()\n",
            "Value: 1\n",
            "Latitude: ('Rows', 'Columns')\n",
            "Longitude: ('Rows', 'Columns')\n",
            "Fog_Lrc_Mask: ('Rows', 'Columns')\n",
            "Fog_Qf: ('Rows', 'Columns', 'QfConst')\n",
            "Fog_Qpi: ('Rows', 'Columns', 'QPIConst')\n",
            "MVFR_Fog_Prob: ('Rows', 'Columns')\n",
            "IFR_Fog_Prob: ('Rows', 'Columns')\n",
            "IFR_RHonly_Fog_Prob: ('Rows', 'Columns')\n",
            "LIFR_Fog_Prob: ('Rows', 'Columns')\n",
            "Fog_Depth: ('Rows', 'Columns')\n",
            "Sfc_Temp_Bias: ('Rows', 'Columns')\n",
            "Sfc_Temp_Bias_Global: ('Rows', 'Columns')\n",
            "Refl_Chn2_StdDev: ('Rows', 'Columns')\n",
            "Refl_Chn2_StdDev_Lrc: ('Rows', 'Columns')\n",
            "Refl_Chn2_Stddev_Composite: ('Rows', 'Columns')\n",
            "BT_Chn14_StdDev: ('Rows', 'Columns')\n",
            "Emiss_Chn7_Atm_Correc: ('Rows', 'Columns')\n",
            "Emiss_Chn7_Composite: ('Rows', 'Columns')\n",
            "Refl_Chn7_Composite: ('Rows', 'Columns')\n",
            "Sfc_Elevation: ('Rows', 'Columns')\n",
            "Sfc_RH: ('Rows', 'Columns')\n",
            "Sfc_RH_Global: ('Rows', 'Columns')\n",
            "Max_RH_500ft_Lay: ('Rows', 'Columns')\n",
            "Max_RH_1000ft_Lay: ('Rows', 'Columns')\n",
            "Max_RH_3000ft_Lay: ('Rows', 'Columns')\n",
            "Max_RH_500ft_9X9: ('Rows', 'Columns')\n",
            "Max_RH_1000ft_9X9: ('Rows', 'Columns')\n",
            "Max_RH_3000ft_9X9: ('Rows', 'Columns')\n",
            "Max_RH_500ft_Lay_Above: ('Rows', 'Columns')\n",
            "Max_RH_1000ft_Lay_Above: ('Rows', 'Columns')\n",
            "Max_RH_3000ft_Lay_Above: ('Rows', 'Columns')\n",
            "Max_RH_500ft_Lay_Global: ('Rows', 'Columns')\n",
            "Max_RH_1000ft_Lay_Global: ('Rows', 'Columns')\n",
            "Max_RH_3000ft_Lay_Global: ('Rows', 'Columns')\n",
            "Max_RH_500ft_Lay_Above_Global: ('Rows', 'Columns')\n",
            "Max_RH_1000ft_Lay_Above_Global: ('Rows', 'Columns')\n",
            "Max_RH_3000ft_Lay_Above_Global: ('Rows', 'Columns')\n",
            "Max_RH_Hgt_500ft_Lay_Above: ('Rows', 'Columns')\n",
            "Max_RH_Hgt_1000ft_Lay_Above: ('Rows', 'Columns')\n",
            "Max_RH_Hgt_3000ft_Lay_Above: ('Rows', 'Columns')\n",
            "Max_RH_Hgt_500ft_Lay_Above_Global: ('Rows', 'Columns')\n",
            "Max_RH_Hgt_1000ft_Lay_Above_Global: ('Rows', 'Columns')\n",
            "Max_RH_Hgt_3000ft_Lay_Above_Global: ('Rows', 'Columns')\n",
            "Max_RH_Hgt_Sfc_Elev_Diff: ('Rows', 'Columns')\n",
            "Meso_Nwp_Valid: ('Rows', 'Columns')\n",
            "Xgrad_Idx: ('Rows', 'Columns')\n",
            "Ygrad_Idx: ('Rows', 'Columns')\n",
            "NumTotalPix: ()\n",
            "Value: 3750000\n",
            "NumTotPixAtpt: ()\n",
            "Value: 3702838\n",
            "NumFLSpix: ()\n",
            "Value: 3678439\n",
            "FractionFLS: ()\n",
            "Value: 0.9809170961380005\n",
            "NumPixClear: ()\n",
            "Value: 1133308\n",
            "FractionClear: ()\n",
            "Value: 0.3080948293209076\n",
            "NumPixNotClear: ()\n",
            "Value: 2545131\n",
            "FractionNotClear: ()\n",
            "Value: 0.6919052004814148\n",
            "NumPixWater: ()\n",
            "Value: 889402\n",
            "FractionWater: ()\n",
            "Value: 0.2417878955602646\n",
            "NumPixSuperCooled: ()\n",
            "Value: 627693\n",
            "FractionSuperCooled: ()\n",
            "Value: 0.17064113914966583\n",
            "NumPixMixed: ()\n",
            "Value: 96545\n",
            "FractionMixed: ()\n",
            "Value: 0.026246188208460808\n",
            "NumPixIce: ()\n",
            "Value: 931491\n",
            "FractionIce: ()\n",
            "Value: 0.2532299757003784\n",
            "FLSperct: ()\n",
            "Value: 99.34107208251953\n",
            "MinFLSdepth: ()\n",
            "Value: 0.121826171875\n",
            "MaxFLSdepth: ()\n",
            "Value: 494.511474609375\n",
            "MeanFLSdepth: ()\n",
            "Value: 223.89141845703125\n",
            "StdDevFLSdepth: ()\n",
            "Value: 84.06893920898438\n",
            "MinLIFRprob: ()\n",
            "Value: 0.0\n",
            "MaxLIFRprob: ()\n",
            "Value: 95.31219482421875\n",
            "MeanLIFRprob: ()\n",
            "Value: 3.646326780319214\n",
            "StdDevLIFRprob: ()\n",
            "Value: 7.340776443481445\n",
            "MinMVFRprob: ()\n",
            "Value: 0.0\n",
            "MaxMVFRprob: ()\n",
            "Value: 99.0\n",
            "MeanMVFRprob: ()\n",
            "Value: 23.245635986328125\n",
            "StdDevMVFRprob: ()\n",
            "Value: 27.780946731567383\n",
            "MinIFRprob: ()\n",
            "Value: 0.0\n",
            "MaxIFRprob: ()\n",
            "Value: 97.89250183105469\n",
            "MeanIFRprob: ()\n",
            "Value: 7.846626281738281\n",
            "StdDevIFRprob: ()\n",
            "Value: 13.350823402404785\n",
            "granule_level_quality_flag: ()\n",
            "Value: 0\n"
          ]
        }
      ]
    },
    {
      "cell_type": "code",
      "source": [
        "!pip install earthengine-api xarray rasterio folium geopandas shapely -q\n",
        "\n",
        "import ee\n",
        "import os\n",
        "import json\n",
        "import numpy as np\n",
        "import xarray as xr\n",
        "import rasterio\n",
        "from rasterio.transform import from_origin\n",
        "from rasterio.features import shapes\n",
        "import geopandas as gpd\n",
        "from shapely.geometry import box\n",
        "import folium\n",
        "import gc\n",
        "import traceback\n",
        "\n",
        "ee.Authenticate()\n",
        "\n",
        "nc_directory = \"/content/drive/My Drive/WildFire/DATA/NOAA_GOES_R\"\n",
        "geo_tiff_directory = \"/content/drive/My Drive/WildFire/DATA/GeoTIFF\"\n",
        "geojson_directory = \"/content/drive/My Drive/WildFire/DATA/GeoJSON\"\n",
        "os.makedirs(geo_tiff_directory, exist_ok=True)\n",
        "os.makedirs(geojson_directory, exist_ok=True)\n",
        "\n",
        "relevant_variables = [\n",
        "    \"Fog_Lrc_Mask\",\n",
        "    \"MVFR_Fog_Prob\",\n",
        "    \"IFR_Fog_Prob\",\n",
        "    \"IFR_RHonly_Fog_Prob\",\n",
        "    \"LIFR_Fog_Prob\"\n",
        "]\n",
        "\n",
        "def convert_nc_to_geotiff(ds, variable, output_directory):\n",
        "    try:\n",
        "        data = ds[variable].values\n",
        "        lon, lat = ds[\"Longitude\"].values, ds[\"Latitude\"].values\n",
        "\n",
        "        lon = np.ma.filled(lon, np.nan) if np.ma.is_masked(lon) else lon\n",
        "        lat = np.ma.filled(lat, np.nan) if np.ma.is_masked(lat) else lat\n",
        "\n",
        "        if np.isnan(data).all() or data.shape != lon.shape or data.shape != lat.shape:\n",
        "            print(f\"Skipping variable '{variable}': Data is invalid or mismatched.\")\n",
        "            return None\n",
        "\n",
        "        transform = from_origin(np.nanmin(lon), np.nanmax(lat), lon[0, 1] - lon[0, 0], lat[1, 0] - lat[0, 0])\n",
        "        output_file = os.path.join(output_directory, f\"{variable}.tif\")\n",
        "        with rasterio.open(output_file, \"w\", driver=\"GTiff\", height=data.shape[0], width=data.shape[1],\n",
        "                           count=1, dtype=data.dtype.name, crs=\"EPSG:4326\", transform=transform) as dst:\n",
        "            dst.write(data, 1)\n",
        "        print(f\"GeoTIFF saved at: {output_file}\")\n",
        "        return output_file\n",
        "    except Exception as e:\n",
        "        print(f\"Error processing variable '{variable}': {e}\")\n",
        "        traceback.print_exc()\n",
        "        return None\n",
        "\n",
        "def convert_geotiff_to_geojson_manual(geo_tiff_path, output_directory):\n",
        "    try:\n",
        "        with rasterio.open(geo_tiff_path) as src:\n",
        "            data = src.read(1)\n",
        "            transform = src.transform\n",
        "\n",
        "        mask = data != src.nodata\n",
        "        shapes_gen = shapes(data, mask=mask, transform=transform)\n",
        "        features = [\n",
        "            {\"type\": \"Feature\", \"geometry\": geom, \"properties\": {\"value\": value}}\n",
        "            for geom, value in shapes_gen if geom[\"type\"] in [\"Polygon\", \"MultiPolygon\"]\n",
        "        ]\n",
        "\n",
        "        if not features:\n",
        "            print(\"No valid features found.\")\n",
        "            return None\n",
        "\n",
        "        geojson_data = {\n",
        "            \"type\": \"FeatureCollection\",\n",
        "            \"features\": features\n",
        "        }\n",
        "\n",
        "        output_file = os.path.join(output_directory, os.path.splitext(os.path.basename(geo_tiff_path))[0] + \".geojson\")\n",
        "        with open(output_file, \"w\") as f:\n",
        "            json.dump(geojson_data, f)\n",
        "        print(f\"GeoJSON saved at: {output_file}\")\n",
        "\n",
        "        return output_file\n",
        "    except Exception as e:\n",
        "        print(f\"Error converting GeoTIFF to GeoJSON: {e}\")\n",
        "        traceback.print_exc()\n",
        "        return None\n",
        "\n",
        "def visualize_layers_on_map(geojson_files, output_directory):\n",
        "\n",
        "    manual_bounding_box = [-168.0, 24.0, -52.0, 72.0]\n",
        "\n",
        "    for variable, geojson_file in geojson_files.items():\n",
        "        map_center = [48.0, -100.0]\n",
        "        map = folium.Map(location=map_center, zoom_start=4)\n",
        "\n",
        "        map.fit_bounds([[manual_bounding_box[1], manual_bounding_box[0]], [manual_bounding_box[3], manual_bounding_box[2]]])\n",
        "\n",
        "        try:\n",
        "            folium.GeoJson(\n",
        "                geojson_file,\n",
        "                name=variable,\n",
        "                style_function=lambda x: {\"fillColor\": \"blue\", \"color\": \"red\", \"weight\": 2, \"fillOpacity\": 0.5},\n",
        "            ).add_to(map)\n",
        "            map_path = os.path.join(output_directory, f\"{variable}_map.html\")\n",
        "            map.save(map_path)\n",
        "            print(f\"Map for '{variable}' saved at: {map_path}\")\n",
        "        except Exception as e:\n",
        "            print(f\"Error visualizing variable '{variable}': {e}\")\n",
        "\n",
        "nc_files = [f for f in os.listdir(nc_directory) if f.endswith('.nc')]\n",
        "if not nc_files:\n",
        "    print(\"No NetCDF files found.\")\n",
        "else:\n",
        "    nc_file_path = os.path.join(nc_directory, nc_files[0])\n",
        "    print(f\"Processing file: {nc_file_path}\")\n",
        "\n",
        "    try:\n",
        "        ds = xr.open_dataset(nc_file_path, chunks={'Rows': 1000, 'Columns': 1000})\n",
        "        geojson_files = {}\n",
        "        for variable in relevant_variables:\n",
        "            if variable in ds.variables:\n",
        "                geo_tiff_file = convert_nc_to_geotiff(ds, variable, geo_tiff_directory)\n",
        "                if geo_tiff_file:\n",
        "                    geojson_file = convert_geotiff_to_geojson_manual(geo_tiff_file, geojson_directory)\n",
        "                    if geojson_file:\n",
        "                        geojson_files[variable] = geojson_file\n",
        "                gc.collect()\n",
        "\n",
        "        if geojson_files:\n",
        "            map_path = '/content/drive/My Drive/WildFire/'\n",
        "            visualize_layers_on_map(geojson_files, map_path)\n",
        "        else:\n",
        "            print(\"No valid GeoTIFF or GeoJSON files were created.\")\n",
        "    except Exception as e:\n",
        "        print(f\"Error processing NetCDF file: {e}\")\n",
        "        traceback.print_exc()"
      ],
      "metadata": {
        "id": "woZBAZp9sG_J",
        "colab": {
          "base_uri": "https://localhost:8080/"
        },
        "outputId": "bc2f0cab-9631-416b-81f1-c64a8a5d9a4e"
      },
      "execution_count": 7,
      "outputs": [
        {
          "output_type": "stream",
          "name": "stdout",
          "text": [
            "Processing file: /content/drive/My Drive/WildFire/DATA/NOAA_GOES_R/ABI-L2-GFLSC-M6_v3r1_g16_s202401010001173_e202401010003546_c202401010005114.nc\n",
            "GeoTIFF saved at: /content/drive/My Drive/WildFire/DATA/GeoTIFF/Fog_Lrc_Mask.tif\n"
          ]
        },
        {
          "output_type": "stream",
          "name": "stderr",
          "text": [
            "<ipython-input-7-52ccf7c7acd5>:131: UserWarning: The specified chunks separate the stored chunks along dimension \"Rows\" starting at index 1000. This could degrade performance. Instead, consider rechunking after loading.\n",
            "  ds = xr.open_dataset(nc_file_path, chunks={'Rows': 1000, 'Columns': 1000})\n",
            "<ipython-input-7-52ccf7c7acd5>:131: UserWarning: The specified chunks separate the stored chunks along dimension \"Columns\" starting at index 1000. This could degrade performance. Instead, consider rechunking after loading.\n",
            "  ds = xr.open_dataset(nc_file_path, chunks={'Rows': 1000, 'Columns': 1000})\n"
          ]
        },
        {
          "output_type": "stream",
          "name": "stdout",
          "text": [
            "Error converting GeoTIFF to GeoJSON: IllegalArgumentException: Points of LinearRing do not form a closed linestring\n"
          ]
        },
        {
          "output_type": "stream",
          "name": "stderr",
          "text": [
            "Traceback (most recent call last):\n",
            "  File \"<ipython-input-7-52ccf7c7acd5>\", line 73, in convert_geotiff_to_geojson_manual\n",
            "    features = [\n",
            "  File \"<ipython-input-7-52ccf7c7acd5>\", line 75, in <listcomp>\n",
            "    \"geometry\": mapping(shape(geom).simplify(0.01, preserve_topology=True)),\n",
            "  File \"/usr/local/lib/python3.10/dist-packages/shapely/geometry/geo.py\", line 101, in shape\n",
            "    return Polygon(ob[\"coordinates\"][0], ob[\"coordinates\"][1:])\n",
            "  File \"/usr/local/lib/python3.10/dist-packages/shapely/geometry/polygon.py\", line 230, in __new__\n",
            "    shell = LinearRing(shell)\n",
            "  File \"/usr/local/lib/python3.10/dist-packages/shapely/geometry/polygon.py\", line 104, in __new__\n",
            "    geom = shapely.linearrings(coordinates)\n",
            "  File \"/usr/local/lib/python3.10/dist-packages/shapely/decorators.py\", line 77, in wrapped\n",
            "    return func(*args, **kwargs)\n",
            "  File \"/usr/local/lib/python3.10/dist-packages/shapely/creation.py\", line 171, in linearrings\n",
            "    return lib.linearrings(coords, out=out, **kwargs)\n",
            "shapely.errors.GEOSException: IllegalArgumentException: Points of LinearRing do not form a closed linestring\n"
          ]
        },
        {
          "output_type": "stream",
          "name": "stdout",
          "text": [
            "GeoTIFF saved at: /content/drive/My Drive/WildFire/DATA/GeoTIFF/MVFR_Fog_Prob.tif\n",
            "Error converting GeoTIFF to GeoJSON: IllegalArgumentException: Points of LinearRing do not form a closed linestring\n"
          ]
        },
        {
          "output_type": "stream",
          "name": "stderr",
          "text": [
            "Traceback (most recent call last):\n",
            "  File \"<ipython-input-7-52ccf7c7acd5>\", line 73, in convert_geotiff_to_geojson_manual\n",
            "    features = [\n",
            "  File \"<ipython-input-7-52ccf7c7acd5>\", line 75, in <listcomp>\n",
            "    \"geometry\": mapping(shape(geom).simplify(0.01, preserve_topology=True)),\n",
            "  File \"/usr/local/lib/python3.10/dist-packages/shapely/geometry/geo.py\", line 101, in shape\n",
            "    return Polygon(ob[\"coordinates\"][0], ob[\"coordinates\"][1:])\n",
            "  File \"/usr/local/lib/python3.10/dist-packages/shapely/geometry/polygon.py\", line 230, in __new__\n",
            "    shell = LinearRing(shell)\n",
            "  File \"/usr/local/lib/python3.10/dist-packages/shapely/geometry/polygon.py\", line 104, in __new__\n",
            "    geom = shapely.linearrings(coordinates)\n",
            "  File \"/usr/local/lib/python3.10/dist-packages/shapely/decorators.py\", line 77, in wrapped\n",
            "    return func(*args, **kwargs)\n",
            "  File \"/usr/local/lib/python3.10/dist-packages/shapely/creation.py\", line 171, in linearrings\n",
            "    return lib.linearrings(coords, out=out, **kwargs)\n",
            "shapely.errors.GEOSException: IllegalArgumentException: Points of LinearRing do not form a closed linestring\n"
          ]
        },
        {
          "output_type": "stream",
          "name": "stdout",
          "text": [
            "GeoTIFF saved at: /content/drive/My Drive/WildFire/DATA/GeoTIFF/IFR_Fog_Prob.tif\n",
            "Error converting GeoTIFF to GeoJSON: IllegalArgumentException: Points of LinearRing do not form a closed linestring\n"
          ]
        },
        {
          "output_type": "stream",
          "name": "stderr",
          "text": [
            "Traceback (most recent call last):\n",
            "  File \"<ipython-input-7-52ccf7c7acd5>\", line 73, in convert_geotiff_to_geojson_manual\n",
            "    features = [\n",
            "  File \"<ipython-input-7-52ccf7c7acd5>\", line 75, in <listcomp>\n",
            "    \"geometry\": mapping(shape(geom).simplify(0.01, preserve_topology=True)),\n",
            "  File \"/usr/local/lib/python3.10/dist-packages/shapely/geometry/geo.py\", line 101, in shape\n",
            "    return Polygon(ob[\"coordinates\"][0], ob[\"coordinates\"][1:])\n",
            "  File \"/usr/local/lib/python3.10/dist-packages/shapely/geometry/polygon.py\", line 230, in __new__\n",
            "    shell = LinearRing(shell)\n",
            "  File \"/usr/local/lib/python3.10/dist-packages/shapely/geometry/polygon.py\", line 104, in __new__\n",
            "    geom = shapely.linearrings(coordinates)\n",
            "  File \"/usr/local/lib/python3.10/dist-packages/shapely/decorators.py\", line 77, in wrapped\n",
            "    return func(*args, **kwargs)\n",
            "  File \"/usr/local/lib/python3.10/dist-packages/shapely/creation.py\", line 171, in linearrings\n",
            "    return lib.linearrings(coords, out=out, **kwargs)\n",
            "shapely.errors.GEOSException: IllegalArgumentException: Points of LinearRing do not form a closed linestring\n"
          ]
        },
        {
          "output_type": "stream",
          "name": "stdout",
          "text": [
            "GeoTIFF saved at: /content/drive/My Drive/WildFire/DATA/GeoTIFF/IFR_RHonly_Fog_Prob.tif\n",
            "Error converting GeoTIFF to GeoJSON: IllegalArgumentException: Points of LinearRing do not form a closed linestring\n"
          ]
        },
        {
          "output_type": "stream",
          "name": "stderr",
          "text": [
            "Traceback (most recent call last):\n",
            "  File \"<ipython-input-7-52ccf7c7acd5>\", line 73, in convert_geotiff_to_geojson_manual\n",
            "    features = [\n",
            "  File \"<ipython-input-7-52ccf7c7acd5>\", line 75, in <listcomp>\n",
            "    \"geometry\": mapping(shape(geom).simplify(0.01, preserve_topology=True)),\n",
            "  File \"/usr/local/lib/python3.10/dist-packages/shapely/geometry/geo.py\", line 101, in shape\n",
            "    return Polygon(ob[\"coordinates\"][0], ob[\"coordinates\"][1:])\n",
            "  File \"/usr/local/lib/python3.10/dist-packages/shapely/geometry/polygon.py\", line 230, in __new__\n",
            "    shell = LinearRing(shell)\n",
            "  File \"/usr/local/lib/python3.10/dist-packages/shapely/geometry/polygon.py\", line 104, in __new__\n",
            "    geom = shapely.linearrings(coordinates)\n",
            "  File \"/usr/local/lib/python3.10/dist-packages/shapely/decorators.py\", line 77, in wrapped\n",
            "    return func(*args, **kwargs)\n",
            "  File \"/usr/local/lib/python3.10/dist-packages/shapely/creation.py\", line 171, in linearrings\n",
            "    return lib.linearrings(coords, out=out, **kwargs)\n",
            "shapely.errors.GEOSException: IllegalArgumentException: Points of LinearRing do not form a closed linestring\n"
          ]
        },
        {
          "output_type": "stream",
          "name": "stdout",
          "text": [
            "GeoTIFF saved at: /content/drive/My Drive/WildFire/DATA/GeoTIFF/LIFR_Fog_Prob.tif\n",
            "Error converting GeoTIFF to GeoJSON: IllegalArgumentException: Points of LinearRing do not form a closed linestring\n"
          ]
        },
        {
          "output_type": "stream",
          "name": "stderr",
          "text": [
            "Traceback (most recent call last):\n",
            "  File \"<ipython-input-7-52ccf7c7acd5>\", line 73, in convert_geotiff_to_geojson_manual\n",
            "    features = [\n",
            "  File \"<ipython-input-7-52ccf7c7acd5>\", line 75, in <listcomp>\n",
            "    \"geometry\": mapping(shape(geom).simplify(0.01, preserve_topology=True)),\n",
            "  File \"/usr/local/lib/python3.10/dist-packages/shapely/geometry/geo.py\", line 101, in shape\n",
            "    return Polygon(ob[\"coordinates\"][0], ob[\"coordinates\"][1:])\n",
            "  File \"/usr/local/lib/python3.10/dist-packages/shapely/geometry/polygon.py\", line 230, in __new__\n",
            "    shell = LinearRing(shell)\n",
            "  File \"/usr/local/lib/python3.10/dist-packages/shapely/geometry/polygon.py\", line 104, in __new__\n",
            "    geom = shapely.linearrings(coordinates)\n",
            "  File \"/usr/local/lib/python3.10/dist-packages/shapely/decorators.py\", line 77, in wrapped\n",
            "    return func(*args, **kwargs)\n",
            "  File \"/usr/local/lib/python3.10/dist-packages/shapely/creation.py\", line 171, in linearrings\n",
            "    return lib.linearrings(coords, out=out, **kwargs)\n",
            "shapely.errors.GEOSException: IllegalArgumentException: Points of LinearRing do not form a closed linestring\n"
          ]
        },
        {
          "output_type": "stream",
          "name": "stdout",
          "text": [
            "No valid GeoTIFF or GeoJSON files were created.\n"
          ]
        }
      ]
    }
  ]
}