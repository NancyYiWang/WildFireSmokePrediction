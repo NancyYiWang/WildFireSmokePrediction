{
  "nbformat": 4,
  "nbformat_minor": 0,
  "metadata": {
    "colab": {
      "provenance": [],
      "authorship_tag": "ABX9TyOaXxLCrKdTknw7ECW3sL5/",
      "include_colab_link": true
    },
    "kernelspec": {
      "name": "python3",
      "display_name": "Python 3"
    },
    "language_info": {
      "name": "python"
    }
  },
  "cells": [
    {
      "cell_type": "markdown",
      "metadata": {
        "id": "view-in-github",
        "colab_type": "text"
      },
      "source": [
        "<a href=\"https://colab.research.google.com/github/NancyYiWang/WildFireSmokePrediction/blob/main/PredictModel.ipynb\" target=\"_parent\"><img src=\"https://colab.research.google.com/assets/colab-badge.svg\" alt=\"Open In Colab\"/></a>"
      ]
    },
    {
      "cell_type": "code",
      "source": [
        "from google.colab import drive\n",
        "drive.mount('/content/drive')"
      ],
      "metadata": {
        "colab": {
          "base_uri": "https://localhost:8080/"
        },
        "id": "69fuYdNrM7x2",
        "outputId": "ef61a9aa-05c4-467d-f6a2-2281844aecec"
      },
      "execution_count": 1,
      "outputs": [
        {
          "output_type": "stream",
          "name": "stdout",
          "text": [
            "Mounted at /content/drive\n"
          ]
        }
      ]
    },
    {
      "cell_type": "code",
      "execution_count": null,
      "metadata": {
        "id": "4k2ApsdJMX0i"
      },
      "outputs": [],
      "source": [
        "import numpy as np\n",
        "import pandas as pd\n",
        "import xarray as xr\n",
        "from sklearn.ensemble import RandomForestClassifier, RandomForestRegressor\n",
        "from sklearn.model_selection import train_test_split\n",
        "from sklearn.metrics import accuracy_score, mean_squared_error\n",
        "\n",
        "def load_nc_data(file_path):\n",
        "    data = xr.open_dataset(file_path)\n",
        "    return data.to_dataframe().reset_index()\n",
        "\n",
        "def preprocess_data(weather_data, terrain_data):\n",
        "\n",
        "    merged_data = weather_data.merge(terrain_data, on=[\"latitude\", \"longitude\"])\n",
        "    return merged_data\n",
        "\n",
        "def train_fire_prediction_model(data):\n",
        "\n",
        "    X = data[['uwnd', 'vwnd', 'rhum', 'air', 'hgt']]\n",
        "    y = data['fire_occurred']\n",
        "\n",
        "    X_train, X_test, y_train, y_test = train_test_split(X, y, test_size=0.2, random_state=42)\n",
        "\n",
        "    model = RandomForestClassifier(n_estimators=100, random_state=42)\n",
        "    model.fit(X_train, y_train)\n",
        "\n",
        "    y_pred = model.predict(X_test)\n",
        "    accuracy = accuracy_score(y_test, y_pred)\n",
        "    print(f\"Accuracy of the fire prediction model: {accuracy}\")\n",
        "    return model\n",
        "\n",
        "def simulate_smoke_dispersion(data, fire_model):\n",
        "\n",
        "    data['fire_probability'] = fire_model.predict_proba(data[['uwnd', 'vwnd', 'rhum', 'air', 'hgt']])[:, 1]\n",
        "\n",
        "    def gaussian_dispersion(fire_prob, wind_speed, distance):\n",
        "        return fire_prob * np.exp(-distance / (2 * wind_speed))\n",
        "\n",
        "    data['wind_speed'] = np.sqrt(data['uwnd']**2 + data['vwnd']**2)\n",
        "    data['smoke_concentration'] = gaussian_dispersion(\n",
        "        data['fire_probability'], data['wind_speed'], distance=1\n",
        "    )\n",
        "    return data\n",
        "\n",
        "def train_smoke_prediction_system(weather_data, terrain_data, fire_labels):\n",
        "\n",
        "    data = preprocess_data(weather_data, terrain_data)\n",
        "    data['fire_occurred'] = fire_labels\n",
        "\n",
        "    fire_model = train_fire_prediction_model(data)\n",
        "\n",
        "    final_data = simulate_smoke_dispersion(data, fire_model)\n",
        "\n",
        "    X = final_data[['fire_probability', 'wind_speed', 'rhum', 'air', 'hgt']]\n",
        "    y = final_data['smoke_concentration']\n",
        "\n",
        "    X_train, X_test, y_train, y_test = train_test_split(X, y, test_size=0.2, random_state=42)\n",
        "\n",
        "    smoke_model = RandomForestRegressor(n_estimators=100, random_state=42)\n",
        "    smoke_model.fit(X_train, y_train)\n",
        "\n",
        "    y_pred = smoke_model.predict(X_test)\n",
        "    mse = mean_squared_error(y_test, y_pred)\n",
        "    print(f\"MSE of the smoke prediction model: {mse}\")\n",
        "    return smoke_model\n",
        "\n",
        "def predict_real_time(weather_data, terrain_data, smoke_model):\n",
        "\n",
        "    data = preprocess_data(weather_data, terrain_data)\n",
        "    predictions = smoke_model.predict(data[['fire_probability', 'wind_speed', 'rhum', 'air', 'hgt']])\n",
        "    data['predicted_smoke_concentration'] = predictions\n",
        "    return data\n",
        "\n",
        "weather_data = load_nc_data(\"uwnd.2024.nc\")\n",
        "terrain_data = pd.read_csv(\"terrain_data.csv\")\n",
        "fire_labels = pd.read_csv(\"fire_labels.csv\")['fire_occurred']\n",
        "\n",
        "smoke_model = train_smoke_prediction_system(weather_data, terrain_data, fire_labels)\n",
        "\n",
        "real_time_data = predict_real_time(weather_data, terrain_data, smoke_model)"
      ]
    }
  ]
}