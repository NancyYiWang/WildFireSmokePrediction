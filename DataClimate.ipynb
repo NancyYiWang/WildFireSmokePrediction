{
  "nbformat": 4,
  "nbformat_minor": 0,
  "metadata": {
    "colab": {
      "provenance": [],
      "authorship_tag": "ABX9TyOQCT8xms4xuOBWmQkJEate",
      "include_colab_link": true
    },
    "kernelspec": {
      "name": "python3",
      "display_name": "Python 3"
    },
    "language_info": {
      "name": "python"
    }
  },
  "cells": [
    {
      "cell_type": "markdown",
      "metadata": {
        "id": "view-in-github",
        "colab_type": "text"
      },
      "source": [
        "<a href=\"https://colab.research.google.com/github/NancyYiWang/WildFireSmokePrediction/blob/main/DataClimate.ipynb\" target=\"_parent\"><img src=\"https://colab.research.google.com/assets/colab-badge.svg\" alt=\"Open In Colab\"/></a>"
      ]
    },
    {
      "cell_type": "code",
      "source": [
        "# Download data from https://drive.google.com/drive/folders/1IvBmSOVATtls8k3rzlXT3EJZ_MZ4BWmS?usp=drive_link and store the data in your drive."
      ],
      "metadata": {
        "id": "kpB5gZgyRxS7"
      },
      "execution_count": 16,
      "outputs": []
    },
    {
      "cell_type": "code",
      "source": [
        "from google.colab import drive\n",
        "drive.mount('/content/drive')"
      ],
      "metadata": {
        "id": "OsvUxNXd0TnK",
        "outputId": "56f3b1d8-1e32-45b1-cd42-d2ab42440447",
        "colab": {
          "base_uri": "https://localhost:8080/"
        }
      },
      "execution_count": 1,
      "outputs": [
        {
          "output_type": "stream",
          "name": "stdout",
          "text": [
            "Mounted at /content/drive\n"
          ]
        }
      ]
    },
    {
      "cell_type": "code",
      "execution_count": 4,
      "metadata": {
        "id": "d38Phyki0EcT",
        "outputId": "8682cb49-0b69-4010-ce75-98f447db8632",
        "colab": {
          "base_uri": "https://localhost:8080/"
        }
      },
      "outputs": [
        {
          "output_type": "stream",
          "name": "stdout",
          "text": [
            "Requirement already satisfied: netCDF4 in /usr/local/lib/python3.10/dist-packages (1.7.2)\n",
            "Requirement already satisfied: cftime in /usr/local/lib/python3.10/dist-packages (from netCDF4) (1.6.4.post1)\n",
            "Requirement already satisfied: certifi in /usr/local/lib/python3.10/dist-packages (from netCDF4) (2024.12.14)\n",
            "Requirement already satisfied: numpy in /usr/local/lib/python3.10/dist-packages (from netCDF4) (1.26.4)\n"
          ]
        }
      ],
      "source": [
        "! pip install netCDF4\n",
        "\n",
        "import os\n",
        "from netCDF4 import Dataset"
      ]
    },
    {
      "cell_type": "code",
      "source": [
        "nc_directory = \"/content/drive/My Drive/WildFire/DATA/NOAA_Climate\" # Change the folder accordingly if needed.\n",
        "\n",
        "def list_files(directory):\n",
        "    files = [f for f in os.listdir(directory) if f.endswith('.nc')]\n",
        "    print(\"Available files:\")\n",
        "    for idx, file in enumerate(files):\n",
        "        print(f\"{idx + 1}. {file}\")\n",
        "    return files\n",
        "\n",
        "def display_file_info(nc_file_path):\n",
        "    try:\n",
        "        with Dataset(nc_file_path, 'r') as nc_data:\n",
        "            print(\"\\n--- Metadata ---\")\n",
        "            print(nc_data)\n",
        "\n",
        "            print(\"\\n--- Variables ---\")\n",
        "            for var_name, variable in nc_data.variables.items():\n",
        "                print(f\"Variable: {var_name}\")\n",
        "                print(f\"  Dimensions: {variable.dimensions}\")\n",
        "                print(f\"  Shape: {variable.shape}\")\n",
        "                print(f\"  Attributes: {variable.ncattrs()}\")\n",
        "\n",
        "            # To align the data with GOES observations, we examine the \"time\" variable.\n",
        "            # Let's start by displaying the first 10 entries of the \"time\" variable to understand its structure.\n",
        "            print(\"\\n--- Time Variable ---\")\n",
        "            if \"time\" in nc_data.variables:\n",
        "                time_variable = nc_data.variables[\"time\"][:10]\n",
        "                print(\"First 10 entries of the 'time' variable:\")\n",
        "                print(time_variable)\n",
        "\n",
        "                print(\"Attributes of the 'time' variable:\")\n",
        "                time_variable = nc_data.variables[\"time\"]\n",
        "                for attr in time_variable.ncattrs():\n",
        "                    print(f\"{attr}: {getattr(time_variable, attr)}\")\n",
        "            else:\n",
        "                print(\"'time' variable not found in the dataset.\")\n",
        "    except Exception as e:\n",
        "        print(f\"Error reading file: {e}\")\n",
        "\n",
        "files = list_files(nc_directory)\n",
        "file_choice = input(\"\\nEnter the number corresponding to the file you want to view: \")\n",
        "\n",
        "try:\n",
        "    file_choice = int(file_choice) - 1\n",
        "    if 0 <= file_choice < len(files):\n",
        "        chosen_file = os.path.join(nc_directory, files[file_choice])\n",
        "        display_file_info(chosen_file)\n",
        "\n",
        "    else:\n",
        "        print(\"Invalid choice. Please select a valid file number.\")\n",
        "\n",
        "except ValueError:\n",
        "    print(\"Invalid input. Please enter a number corresponding to the file.\")"
      ],
      "metadata": {
        "id": "QH2zSE2dJRWO",
        "outputId": "9c13b923-8b32-4bfb-eb99-9121914c23ae",
        "colab": {
          "base_uri": "https://localhost:8080/"
        }
      },
      "execution_count": 15,
      "outputs": [
        {
          "output_type": "stream",
          "name": "stdout",
          "text": [
            "Available files:\n",
            "1. vwnd.2024.nc\n",
            "2. air.2024.nc\n",
            "3. hgt.2024.nc\n",
            "4. omega.2024.nc\n",
            "5. rhum.2024.nc\n",
            "6. uwnd.2024.nc\n",
            "\n",
            "Enter the number corresponding to the file you want to view: 3\n",
            "\n",
            "--- Metadata ---\n",
            "<class 'netCDF4.Dataset'>\n",
            "root group (NETCDF4_CLASSIC data model, file format HDF5):\n",
            "    Conventions: CF-1.0\n",
            "    title: 4x daily NCEP/DOE Reanalysis 2\n",
            "    comments: Data is from \n",
            "NCEP/DOE AMIP-II Reanalysis (Reanalysis-2)\n",
            "(4x/day).  It consists of most variables interpolated to\n",
            "pressure surfaces from model (sigma) surfaces.\n",
            "    platform: Model\n",
            "    source: NCEP/DOE AMIP-II Reanalysis (Reanalysis-2) Model\n",
            "    institution: National Centers for Environmental Prediction\n",
            "    dataset_title: NCEP-DOE AMIP-II Reanalysis\n",
            "    References: https://www.psl.noaa.gov/data/gridded/data.ncep.reanalysis2.html\n",
            "    source_url: http://www.cpc.ncep.noaa.gov/products/wesley/reanalysis2/\n",
            "    history: created 2021/02 by NOAA/ESRL/PSD\n",
            "Converted to chunked, deflated non-packed NetCDF4 2020/05\n",
            "    dimensions(sizes): level(17), lat(73), lon(144), time(1340)\n",
            "    variables(dimensions): float32 level(level), float32 lat(lat), float32 lon(lon), float64 time(time), float32 hgt(time, level, lat, lon)\n",
            "    groups: \n",
            "\n",
            "--- Variables ---\n",
            "Variable: level\n",
            "  Dimensions: ('level',)\n",
            "  Shape: (17,)\n",
            "  Attributes: ['units', 'actual_range', 'long_name', 'positive', 'GRIB_id', 'GRIB_name', 'axis', 'coordinate_defines']\n",
            "Variable: lat\n",
            "  Dimensions: ('lat',)\n",
            "  Shape: (73,)\n",
            "  Attributes: ['units', 'actual_range', 'long_name', 'standard_name', 'axis', 'coordinate_defines']\n",
            "Variable: lon\n",
            "  Dimensions: ('lon',)\n",
            "  Shape: (144,)\n",
            "  Attributes: ['units', 'long_name', 'actual_range', 'standard_name', 'axis', 'coordinate_defines']\n",
            "Variable: time\n",
            "  Dimensions: ('time',)\n",
            "  Shape: (1340,)\n",
            "  Attributes: ['units', 'long_name', 'delta_t', 'standard_name', 'axis', 'coordinate_defines', 'actual_range']\n",
            "Variable: hgt\n",
            "  Dimensions: ('time', 'level', 'lat', 'lon')\n",
            "  Shape: (1340, 17, 73, 144)\n",
            "  Attributes: ['long_name', 'units', 'precision', 'least_significant_digit', 'GRIB_id', 'GRIB_name', 'var_desc', 'dataset', 'level_desc', 'statistic', 'parent_stat', 'standard_name', 'missing_value', 'valid_range', 'actual_range']\n",
            "\n",
            "--- Time Variable ---\n",
            "First 10 entries of the 'time' variable:\n",
            "[1963536. 1963542. 1963548. 1963554. 1963560. 1963566. 1963572. 1963578.\n",
            " 1963584. 1963590.]\n",
            "Attributes of the 'time' variable:\n",
            "units: hours since 1800-1-1 00:00:0.0\n",
            "long_name: Time\n",
            "delta_t: 0000-00-00 06:00:00\n",
            "standard_name: time\n",
            "axis: T\n",
            "coordinate_defines: point\n",
            "actual_range: [1963536. 1971570.]\n"
          ]
        }
      ]
    }
  ]
}