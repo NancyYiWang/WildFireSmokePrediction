{
  "nbformat": 4,
  "nbformat_minor": 0,
  "metadata": {
    "colab": {
      "provenance": [],
      "machine_shape": "hm",
      "authorship_tag": "ABX9TyM++mzYWFB6Yhrj5T9WXeHn",
      "include_colab_link": true
    },
    "kernelspec": {
      "name": "python3",
      "display_name": "Python 3"
    },
    "language_info": {
      "name": "python"
    }
  },
  "cells": [
    {
      "cell_type": "markdown",
      "metadata": {
        "id": "view-in-github",
        "colab_type": "text"
      },
      "source": [
        "<a href=\"https://colab.research.google.com/github/NancyYiWang/WildFireSmokePrediction/blob/main/DataClimate.ipynb\" target=\"_parent\"><img src=\"https://colab.research.google.com/assets/colab-badge.svg\" alt=\"Open In Colab\"/></a>"
      ]
    },
    {
      "cell_type": "markdown",
      "source": [
        "--------\n",
        "\n",
        "Download data from<br>\n",
        "https://drive.google.com/drive/folders/1IvBmSOVATtls8k3rzlXT3EJZ_MZ4BWmS?usp=drive_link <br>\n",
        "and store the data in your drive.\n",
        "\n",
        "--------"
      ],
      "metadata": {
        "id": "xgfa0GvcqQo4"
      }
    },
    {
      "cell_type": "code",
      "source": [
        "from google.colab import drive\n",
        "drive.mount('/content/drive')"
      ],
      "metadata": {
        "id": "OsvUxNXd0TnK",
        "outputId": "825eb4e1-86d0-4040-dcec-c7f7a049b490",
        "colab": {
          "base_uri": "https://localhost:8080/"
        }
      },
      "execution_count": 1,
      "outputs": [
        {
          "output_type": "stream",
          "name": "stdout",
          "text": [
            "Mounted at /content/drive\n"
          ]
        }
      ]
    },
    {
      "cell_type": "code",
      "execution_count": 2,
      "metadata": {
        "id": "d38Phyki0EcT",
        "outputId": "15e1cb3d-3337-49b1-f91e-7bab3549deaa",
        "colab": {
          "base_uri": "https://localhost:8080/"
        }
      },
      "outputs": [
        {
          "output_type": "stream",
          "name": "stdout",
          "text": [
            "Collecting netCDF4\n",
            "  Downloading netCDF4-1.7.2-cp310-cp310-manylinux_2_17_x86_64.manylinux2014_x86_64.whl.metadata (1.8 kB)\n",
            "Collecting cftime (from netCDF4)\n",
            "  Downloading cftime-1.6.4.post1-cp310-cp310-manylinux_2_17_x86_64.manylinux2014_x86_64.whl.metadata (8.7 kB)\n",
            "Requirement already satisfied: certifi in /usr/local/lib/python3.10/dist-packages (from netCDF4) (2024.12.14)\n",
            "Requirement already satisfied: numpy in /usr/local/lib/python3.10/dist-packages (from netCDF4) (1.26.4)\n",
            "Downloading netCDF4-1.7.2-cp310-cp310-manylinux_2_17_x86_64.manylinux2014_x86_64.whl (9.1 MB)\n",
            "\u001b[2K   \u001b[90m━━━━━━━━━━━━━━━━━━━━━━━━━━━━━━━━━━━━━━━━\u001b[0m \u001b[32m9.1/9.1 MB\u001b[0m \u001b[31m94.7 MB/s\u001b[0m eta \u001b[36m0:00:00\u001b[0m\n",
            "\u001b[?25hDownloading cftime-1.6.4.post1-cp310-cp310-manylinux_2_17_x86_64.manylinux2014_x86_64.whl (1.3 MB)\n",
            "\u001b[2K   \u001b[90m━━━━━━━━━━━━━━━━━━━━━━━━━━━━━━━━━━━━━━━━\u001b[0m \u001b[32m1.3/1.3 MB\u001b[0m \u001b[31m24.7 MB/s\u001b[0m eta \u001b[36m0:00:00\u001b[0m\n",
            "\u001b[?25hInstalling collected packages: cftime, netCDF4\n",
            "Successfully installed cftime-1.6.4.post1 netCDF4-1.7.2\n"
          ]
        }
      ],
      "source": [
        "! pip install netCDF4\n",
        "\n",
        "import os\n",
        "from netCDF4 import Dataset"
      ]
    },
    {
      "cell_type": "code",
      "source": [
        "nc_directory = \"/content/drive/My Drive/WildFire/DATA/NOAA_Climate\" # Change the folder accordingly if needed.\n",
        "\n",
        "def list_files(directory):\n",
        "    files = [f for f in os.listdir(directory) if f.endswith('.nc')]\n",
        "    print(\"Available files:\")\n",
        "    for idx, file in enumerate(files):\n",
        "        print(f\"{idx + 1}. {file}\")\n",
        "    return files\n",
        "\n",
        "def display_file_info(nc_file_path):\n",
        "    try:\n",
        "        with Dataset(nc_file_path, 'r') as nc_data:\n",
        "            print(\"\\n--- Metadata ---\")\n",
        "            print(nc_data)\n",
        "\n",
        "            print(\"\\n--- Variables ---\")\n",
        "            for var_name, variable in nc_data.variables.items():\n",
        "                print(f\"Variable: {var_name}\")\n",
        "                print(f\"  Dimensions: {variable.dimensions}\")\n",
        "                print(f\"  Shape: {variable.shape}\")\n",
        "                print(f\"  Attributes: {variable.ncattrs()}\")\n",
        "\n",
        "            # To align the data with GOES observations, we examine the \"time\" variable.\n",
        "            # Let's start by displaying the first 10 entries of the \"time\" variable to understand its structure.\n",
        "            print(\"\\n--- Time Variable ---\")\n",
        "            if \"time\" in nc_data.variables:\n",
        "                time_variable = nc_data.variables[\"time\"][:10]\n",
        "                print(\"First 10 entries of the 'time' variable:\")\n",
        "                print(time_variable)\n",
        "\n",
        "                print(\"Attributes of the 'time' variable:\")\n",
        "                time_variable = nc_data.variables[\"time\"]\n",
        "                for attr in time_variable.ncattrs():\n",
        "                    print(f\"{attr}: {getattr(time_variable, attr)}\")\n",
        "            else:\n",
        "                print(\"'time' variable not found in the dataset.\")\n",
        "    except Exception as e:\n",
        "        print(f\"Error reading file: {e}\")\n",
        "\n",
        "files = list_files(nc_directory)\n",
        "file_choice = input(\"\\nEnter the number corresponding to the file you want to view: \")\n",
        "\n",
        "try:\n",
        "    file_choice = int(file_choice) - 1\n",
        "    if 0 <= file_choice < len(files):\n",
        "        chosen_file = os.path.join(nc_directory, files[file_choice])\n",
        "        display_file_info(chosen_file)\n",
        "\n",
        "    else:\n",
        "        print(\"Invalid choice. Please select a valid file number.\")\n",
        "\n",
        "except ValueError:\n",
        "    print(\"Invalid input. Please enter a number corresponding to the file.\")"
      ],
      "metadata": {
        "id": "QH2zSE2dJRWO",
        "outputId": "b8f9c762-934f-476f-e81d-184e8c123b81",
        "colab": {
          "base_uri": "https://localhost:8080/"
        }
      },
      "execution_count": 4,
      "outputs": [
        {
          "output_type": "stream",
          "name": "stdout",
          "text": [
            "Available files:\n",
            "1. vwnd.2024.nc\n",
            "2. air.2024.nc\n",
            "3. hgt.2024.nc\n",
            "4. omega.2024.nc\n",
            "5. rhum.2024.nc\n",
            "6. uwnd.2024.nc\n",
            "\n",
            "Enter the number corresponding to the file you want to view: 1\n",
            "\n",
            "--- Metadata ---\n",
            "<class 'netCDF4.Dataset'>\n",
            "root group (NETCDF4_CLASSIC data model, file format HDF5):\n",
            "    Conventions: CF-1.0\n",
            "    title: 4x Daily NCEP/DOE Reanalysis 2\n",
            "    comments: Data is from \n",
            "NCEP/DOE AMIP-II Reanalysis (Reanalysis-2)\n",
            "(4x/day).  It consists of most variables interpolated to\n",
            "pressure surfaces from model (sigma) surfaces.\n",
            "    platform: Model\n",
            "    source: NCEP/DOE AMIP-II Reanalysis (Reanalysis-2) Model\n",
            "    institution: National Centers for Environmental Prediction\n",
            "    dataset_title: NCEP-DOE AMIP-II Reanalysis\n",
            "    References: https://www.psl.noaa.gov/data/gridded/data.ncep.reanalysis2.html\n",
            "    source_url: http://www.cpc.ncep.noaa.gov/products/wesley/reanalysis2/\n",
            "    history: created 2021/02 by NOAA/ESRL/PSD\n",
            "Converted to chunked, deflated non-packed NetCDF4 2020/05\n",
            "    dimensions(sizes): level(17), lat(73), lon(144), time(1340)\n",
            "    variables(dimensions): float32 level(level), float32 lat(lat), float32 lon(lon), float64 time(time), float32 vwnd(time, level, lat, lon)\n",
            "    groups: \n",
            "\n",
            "--- Variables ---\n",
            "Variable: level\n",
            "  Dimensions: ('level',)\n",
            "  Shape: (17,)\n",
            "  Attributes: ['units', 'actual_range', 'long_name', 'positive', 'GRIB_id', 'GRIB_name', 'axis', 'coordinate_defines']\n",
            "Variable: lat\n",
            "  Dimensions: ('lat',)\n",
            "  Shape: (73,)\n",
            "  Attributes: ['units', 'actual_range', 'long_name', 'standard_name', 'axis', 'coordinate_defines']\n",
            "Variable: lon\n",
            "  Dimensions: ('lon',)\n",
            "  Shape: (144,)\n",
            "  Attributes: ['units', 'long_name', 'actual_range', 'standard_name', 'axis', 'coordinate_defines']\n",
            "Variable: time\n",
            "  Dimensions: ('time',)\n",
            "  Shape: (1340,)\n",
            "  Attributes: ['units', 'long_name', 'delta_t', 'standard_name', 'axis', 'coordinate_defines', 'actual_range']\n",
            "Variable: vwnd\n",
            "  Dimensions: ('time', 'level', 'lat', 'lon')\n",
            "  Shape: (1340, 17, 73, 144)\n",
            "  Attributes: ['long_name', 'units', 'precision', 'least_significant_digit', 'GRIB_id', 'GRIB_name', 'var_desc', 'dataset', 'level_desc', 'statistic', 'parent_stat', 'standard_name', 'missing_value', 'valid_range', 'actual_range']\n",
            "\n",
            "--- Time Variable ---\n",
            "First 10 entries of the 'time' variable:\n",
            "[1963536. 1963542. 1963548. 1963554. 1963560. 1963566. 1963572. 1963578.\n",
            " 1963584. 1963590.]\n",
            "Attributes of the 'time' variable:\n",
            "units: hours since 1800-1-1 00:00:0.0\n",
            "long_name: Time\n",
            "delta_t: 0000-00-00 06:00:00\n",
            "standard_name: time\n",
            "axis: T\n",
            "coordinate_defines: point\n",
            "actual_range: [1963536. 1971570.]\n"
          ]
        }
      ]
    },
    {
      "cell_type": "code",
      "source": [
        "# The Time Period Calculation Tool\n",
        "# Calculate the start and end time variable values for certain time peroid.\n",
        "\n",
        "from datetime import datetime\n",
        "\n",
        "REFERENCE_TIME = datetime(1800, 1, 1, 0, 0, 0)\n",
        "\n",
        "def calculate_time_value(year, month, day, hour):\n",
        "    try:\n",
        "        user_time = datetime(year, month, day, hour, 0, 0)\n",
        "\n",
        "        time_difference = (user_time - REFERENCE_TIME).total_seconds() / 3600\n",
        "        return time_difference\n",
        "    except Exception as e:\n",
        "        print(f\"Error calculating time value: {e}\")\n",
        "        return None\n",
        "\n",
        "def get_user_time(prompt):\n",
        "    print(prompt)\n",
        "    try:\n",
        "        year = int(input(\"Enter year (e.g., 2024): \"))\n",
        "        month = int(input(\"Enter month (1-12): \"))\n",
        "        day = int(input(\"Enter day (1-31): \"))\n",
        "        hour = int(input(\"Enter hour (0-23): \"))\n",
        "        return calculate_time_value(year, month, day, hour)\n",
        "    except ValueError:\n",
        "        print(\"Invalid input. Please enter integers for year, month, day, and hour.\")\n",
        "        return None\n",
        "\n",
        "start_time_value = get_user_time(\"Enter the start time:\")\n",
        "end_time_value = get_user_time(\"Enter the end time:\")\n",
        "\n",
        "if start_time_value is not None and end_time_value is not None:\n",
        "    print(f\"Start time value: {start_time_value} hours since {REFERENCE_TIME}\")\n",
        "    print(f\"End time value: {end_time_value} hours since {REFERENCE_TIME}\")"
      ],
      "metadata": {
        "id": "l7v-QTG_ds6o",
        "outputId": "406c49c4-0576-4e4c-d951-5ccf977af70e",
        "colab": {
          "base_uri": "https://localhost:8080/"
        }
      },
      "execution_count": 5,
      "outputs": [
        {
          "output_type": "stream",
          "name": "stdout",
          "text": [
            "Enter the start time:\n",
            "Enter year (e.g., 2024): 2024\n",
            "Enter month (1-12): 6\n",
            "Enter day (1-31): 1\n",
            "Enter hour (0-23): 0\n",
            "Enter the end time:\n",
            "Enter year (e.g., 2024): 2024\n",
            "Enter month (1-12): 6\n",
            "Enter day (1-31): 1\n",
            "Enter hour (0-23): 23\n",
            "Start time value: 1967184.0 hours since 1800-01-01 00:00:00\n",
            "End time value: 1967207.0 hours since 1800-01-01 00:00:00\n"
          ]
        }
      ]
    },
    {
      "cell_type": "code",
      "source": [
        "# The Plot Tool\n",
        "# Plot data for a specific time point based on one of the five files.\n",
        "# First choose file. Then input the time variable value.\n",
        "\n",
        "import numpy as np\n",
        "import matplotlib.pyplot as plt\n",
        "from datetime import timedelta\n",
        "\n",
        "# Extract key variable name from file name\n",
        "def extract_key_variable_name(file_name):\n",
        "    return file_name.split(\".\")[0]\n",
        "\n",
        "def calculate_nearest_time_index(time_var, time_value):\n",
        "    differences = np.abs(time_var - time_value)\n",
        "    return np.argmin(differences)\n",
        "\n",
        "def plot_variable(nc_file_path, variable_name, time_value):\n",
        "    with Dataset(nc_file_path, 'r') as nc_data:\n",
        "        if variable_name not in nc_data.variables:\n",
        "            print(f\"Variable '{variable_name}' not found in the file.\")\n",
        "            return\n",
        "\n",
        "        time_var = nc_data.variables['time'][:]\n",
        "        time_index = calculate_nearest_time_index(time_var, time_value)\n",
        "\n",
        "        variable = nc_data.variables[variable_name]\n",
        "        data = variable[time_index, :, :, :]\n",
        "\n",
        "        lat = nc_data.variables[variable.dimensions[-2]][:]\n",
        "        lon = nc_data.variables[variable.dimensions[-1]][:]\n",
        "\n",
        "        plt.figure(figsize=(12, 6))\n",
        "        plt.contourf(lon, lat, data[0, :, :], cmap='viridis')\n",
        "        plt.colorbar(label=variable_name)\n",
        "        plt.title(f\"{variable_name} at Time Value {time_value}\")\n",
        "        plt.xlabel(\"Longitude\")\n",
        "        plt.ylabel(\"Latitude\")\n",
        "        plt.show()\n",
        "\n",
        "files = list_files(nc_directory)\n",
        "file_choice = input(\"\\nEnter the number corresponding to the file you want to view: \")\n",
        "\n",
        "try:\n",
        "    file_choice = int(file_choice) - 1\n",
        "    if 0 <= file_choice < len(files):\n",
        "        chosen_file = os.path.join(nc_directory, files[file_choice])\n",
        "        key_variable_name = extract_key_variable_name(files[file_choice])\n",
        "\n",
        "        time_value = get_user_time(\"Enter the time to view:\")\n",
        "\n",
        "        if time_value is not None:\n",
        "            print(f\"Key Variable Plot on Time Value {time_value}\")\n",
        "            plot_variable(chosen_file, key_variable_name, time_value)\n",
        "    else:\n",
        "        print(\"Invalid choice. Please select a valid file number.\")\n",
        "except ValueError:\n",
        "    print(\"Invalid input. Please enter a number corresponding to the file.\")"
      ],
      "metadata": {
        "id": "sHdSrHinffcj",
        "outputId": "56e50b4e-ce0f-4a48-a797-2882ca5f5147",
        "colab": {
          "base_uri": "https://localhost:8080/",
          "height": 832
        }
      },
      "execution_count": 6,
      "outputs": [
        {
          "output_type": "stream",
          "name": "stdout",
          "text": [
            "Available files:\n",
            "1. vwnd.2024.nc\n",
            "2. air.2024.nc\n",
            "3. hgt.2024.nc\n",
            "4. omega.2024.nc\n",
            "5. rhum.2024.nc\n",
            "6. uwnd.2024.nc\n",
            "\n",
            "Enter the number corresponding to the file you want to view: 1\n",
            "Enter the time to view:\n",
            "Enter year (e.g., 2024): 2024\n",
            "Enter month (1-12): 6\n",
            "Enter day (1-31): 1\n",
            "Enter hour (0-23): 0\n",
            "Key Variable Plot on Time Value 1967184.0\n"
          ]
        },
        {
          "output_type": "display_data",
          "data": {
            "text/plain": [
              "<Figure size 1200x600 with 2 Axes>"
            ],
            "image/png": "[encoded data removed]"
          },
          "metadata": {}
        }
      ]
    }
  ]
}